{
  "nbformat": 4,
  "nbformat_minor": 0,
  "metadata": {
    "colab": {
      "name": "DL_Breast Cancer Wisconsin (Diagnostic) Data Set.ipynb",
      "provenance": [],
      "collapsed_sections": [],
      "authorship_tag": "ABX9TyP5bJgrYJUX6DMvGdBthOrd",
      "include_colab_link": true
    },
    "kernelspec": {
      "name": "python3",
      "display_name": "Python 3"
    },
    "accelerator": "GPU"
  },
  "cells": [
    {
      "cell_type": "markdown",
      "metadata": {
        "id": "view-in-github",
        "colab_type": "text"
      },
      "source": [
        "<a href=\"https://colab.research.google.com/github/pentagram5/DeepLearning/blob/master/DL_Breast_Cancer_Wisconsin_(Diagnostic)_Data_Set.ipynb\" target=\"_parent\"><img src=\"https://colab.research.google.com/assets/colab-badge.svg\" alt=\"Open In Colab\"/></a>"
      ]
    },
    {
      "cell_type": "code",
      "metadata": {
        "id": "cYOhl7kwXTTQ",
        "colab_type": "code",
        "colab": {
          "base_uri": "https://localhost:8080/",
          "height": 127
        },
        "outputId": "159ecaec-0aa4-4bc2-c369-cf2189bbe935"
      },
      "source": [
        "from google.colab import drive\n",
        "drive.mount('/content/drive')"
      ],
      "execution_count": 2,
      "outputs": [
        {
          "output_type": "stream",
          "text": [
            "Go to this URL in a browser: https://accounts.google.com/o/oauth2/auth?client_id=947318989803-6bn6qk8qdgf4n4g3pfee6491hc0brc4i.apps.googleusercontent.com&redirect_uri=urn%3aietf%3awg%3aoauth%3a2.0%3aoob&response_type=code&scope=email%20https%3a%2f%2fwww.googleapis.com%2fauth%2fdocs.test%20https%3a%2f%2fwww.googleapis.com%2fauth%2fdrive%20https%3a%2f%2fwww.googleapis.com%2fauth%2fdrive.photos.readonly%20https%3a%2f%2fwww.googleapis.com%2fauth%2fpeopleapi.readonly\n",
            "\n",
            "Enter your authorization code:\n",
            "··········\n",
            "Mounted at /content/drive\n"
          ],
          "name": "stdout"
        }
      ]
    },
    {
      "cell_type": "code",
      "metadata": {
        "id": "FvLtfbn1XWI7",
        "colab_type": "code",
        "colab": {}
      },
      "source": [
        "import pandas as pd \n",
        "data = pd.read_csv('/content/drive/My Drive/data/datasets_180_408_data.csv')"
      ],
      "execution_count": 115,
      "outputs": []
    },
    {
      "cell_type": "code",
      "metadata": {
        "id": "8tt0r_rsXkg5",
        "colab_type": "code",
        "colab": {}
      },
      "source": [
        "data = data.iloc[:, 1:31]\n",
        "y_obj = data.iloc[:,0]\n",
        "X = data.iloc[:,1:]"
      ],
      "execution_count": 116,
      "outputs": []
    },
    {
      "cell_type": "code",
      "metadata": {
        "id": "egJ75u_jXk4B",
        "colab_type": "code",
        "colab": {}
      },
      "source": [
        "from sklearn.preprocessing import LabelEncoder\n",
        "e = LabelEncoder()\n",
        "e.fit(y_obj)\n",
        "y = e.transform(y_obj)"
      ],
      "execution_count": 117,
      "outputs": []
    },
    {
      "cell_type": "code",
      "metadata": {
        "id": "bPpnyTpjZ5Xc",
        "colab_type": "code",
        "colab": {}
      },
      "source": [
        "from sklearn.model_selection import train_test_split\n",
        "X_train, X_test, Y_train, Y_test = train_test_split(X, y,\n",
        "                                                   random_state = 1)"
      ],
      "execution_count": 119,
      "outputs": []
    },
    {
      "cell_type": "code",
      "metadata": {
        "id": "83-4xDYhYsiF",
        "colab_type": "code",
        "colab": {
          "base_uri": "https://localhost:8080/",
          "height": 35
        },
        "outputId": "8f722618-2516-433f-fc8e-91953c7ced75"
      },
      "source": [
        "X.shape"
      ],
      "execution_count": 120,
      "outputs": [
        {
          "output_type": "execute_result",
          "data": {
            "text/plain": [
              "(569, 29)"
            ]
          },
          "metadata": {
            "tags": []
          },
          "execution_count": 120
        }
      ]
    },
    {
      "cell_type": "code",
      "metadata": {
        "id": "GLTX11TKaWyn",
        "colab_type": "code",
        "colab": {}
      },
      "source": [
        "import os \n",
        "from tensorflow.keras.callbacks import ModelCheckpoint\n",
        "from tensorflow.keras.callbacks import EarlyStopping\n",
        "\n",
        "\n",
        "MODEL_DIR = './model/'\n",
        "if not os.path.exists(MODEL_DIR):\n",
        "    os.mkdir(MODEL_DIR)\n",
        "modelpath = './model/{epoch:02d}-{val_loss:.4f}.hdf5'\n",
        "\n",
        "checkpointer = ModelCheckpoint(filepath = modelpath, monitor='val_loss', verbose = 1, save_best_only=True)\n",
        "early_stopping_callback = EarlyStopping(monitor = 'val_loss', patience = 10)"
      ],
      "execution_count": 121,
      "outputs": []
    },
    {
      "cell_type": "code",
      "metadata": {
        "id": "Jki8tJHSXtHS",
        "colab_type": "code",
        "colab": {
          "base_uri": "https://localhost:8080/",
          "height": 737
        },
        "outputId": "ab8e6a05-23ec-4b02-ec6c-207f0c555561"
      },
      "source": [
        "#딥러닝을 구동하는데 필요한 케라스 함수 호출 \n",
        "from tensorflow.keras.models import Sequential\n",
        "from tensorflow.keras.layers import Dense\n",
        "import numpy as np\n",
        "import tensorflow as tf\n",
        "\n",
        "#실행 할때마다 같은 결과를 출력하기 위해 설정 \n",
        "np.random.seed(3)\n",
        "tf.random.set_seed(3)\n",
        "model = Sequential()\n",
        "#멤버함수 add()를 이용해 인공지능 계층 추가 - Relu\n",
        "model.add(Dense(100, input_dim = 29, activation = 'relu'))\n",
        "\n",
        "# 시그모이드 계층 추가 \n",
        "model.add(Dense(1, activation='sigmoid'))\n",
        "model.compile(loss= 'mean_squared_error', optimizer = 'adam', metrics=['accuracy'])\n",
        "history = model.fit(X_train, Y_train, validation_data=(X_test, Y_test), \n",
        "                    epochs=30, batch_size = 200, verbose = 0,\n",
        "                    callbacks = [early_stopping_callback, checkpointer])"
      ],
      "execution_count": 122,
      "outputs": [
        {
          "output_type": "stream",
          "text": [
            "\n",
            "Epoch 00001: val_loss improved from inf to 0.38462, saving model to ./model/01-0.3846.hdf5\n",
            "\n",
            "Epoch 00002: val_loss did not improve from 0.38462\n",
            "\n",
            "Epoch 00003: val_loss did not improve from 0.38462\n",
            "\n",
            "Epoch 00004: val_loss did not improve from 0.38462\n",
            "\n",
            "Epoch 00005: val_loss improved from 0.38462 to 0.37852, saving model to ./model/05-0.3785.hdf5\n",
            "\n",
            "Epoch 00006: val_loss improved from 0.37852 to 0.13244, saving model to ./model/06-0.1324.hdf5\n",
            "\n",
            "Epoch 00007: val_loss did not improve from 0.13244\n",
            "\n",
            "Epoch 00008: val_loss improved from 0.13244 to 0.10017, saving model to ./model/08-0.1002.hdf5\n",
            "\n",
            "Epoch 00009: val_loss improved from 0.10017 to 0.05023, saving model to ./model/09-0.0502.hdf5\n",
            "\n",
            "Epoch 00010: val_loss improved from 0.05023 to 0.04291, saving model to ./model/10-0.0429.hdf5\n",
            "\n",
            "Epoch 00011: val_loss did not improve from 0.04291\n",
            "\n",
            "Epoch 00012: val_loss did not improve from 0.04291\n",
            "\n",
            "Epoch 00013: val_loss did not improve from 0.04291\n",
            "\n",
            "Epoch 00014: val_loss did not improve from 0.04291\n",
            "\n",
            "Epoch 00015: val_loss did not improve from 0.04291\n",
            "\n",
            "Epoch 00016: val_loss did not improve from 0.04291\n",
            "\n",
            "Epoch 00017: val_loss did not improve from 0.04291\n",
            "\n",
            "Epoch 00018: val_loss did not improve from 0.04291\n",
            "\n",
            "Epoch 00019: val_loss did not improve from 0.04291\n",
            "\n",
            "Epoch 00020: val_loss did not improve from 0.04291\n"
          ],
          "name": "stdout"
        }
      ]
    },
    {
      "cell_type": "code",
      "metadata": {
        "id": "6yDWbfCzezTK",
        "colab_type": "code",
        "colab": {
          "base_uri": "https://localhost:8080/",
          "height": 89
        },
        "outputId": "be576dd0-0448-4b32-ac00-54a7863d7382"
      },
      "source": [
        "print('Train Accuracy : %.4f'%(model.evaluate(X_train,Y_train)[1]))\n",
        "print('test Accuracy : %.4f'%(model.evaluate(X_test, Y_test)[1]))"
      ],
      "execution_count": 123,
      "outputs": [
        {
          "output_type": "stream",
          "text": [
            "14/14 [==============================] - 0s 2ms/step - loss: 0.0754 - accuracy: 0.9131\n",
            "Train Accuracy : 0.9131\n",
            "5/5 [==============================] - 0s 2ms/step - loss: 0.0583 - accuracy: 0.9301\n",
            "test Accuracy : 0.9301\n"
          ],
          "name": "stdout"
        }
      ]
    }
  ]
}